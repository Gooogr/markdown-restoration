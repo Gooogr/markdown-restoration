{
 "cells": [
  {
   "cell_type": "code",
   "execution_count": 32,
   "metadata": {},
   "outputs": [],
   "source": [
    "import pandas as pd\n",
    "import numpy as np\n",
    "from nltk import word_tokenize\n",
    "from typing import List"
   ]
  },
  {
   "cell_type": "code",
   "execution_count": 2,
   "metadata": {},
   "outputs": [],
   "source": [
    "DATA_PATH = 'data/markdown/wiki_texts_new.csv'"
   ]
  },
  {
   "cell_type": "code",
   "execution_count": 3,
   "metadata": {},
   "outputs": [
    {
     "name": "stdout",
     "output_type": "stream",
     "text": [
      "Raw csv length 136500\n"
     ]
    }
   ],
   "source": [
    "df = pd.read_csv(DATA_PATH)\n",
    "print('Raw csv length', len(df))"
   ]
  },
  {
   "cell_type": "code",
   "execution_count": 4,
   "metadata": {},
   "outputs": [
    {
     "name": "stdout",
     "output_type": "stream",
     "text": [
      "Filtered csv length 136500\n"
     ]
    }
   ],
   "source": [
    "# Drop empty  rows\n",
    "df = df.loc[~df.isna().all(axis=1), :]\n",
    "print('Filtered csv length', len(df))"
   ]
  },
  {
   "cell_type": "code",
   "execution_count": 8,
   "metadata": {},
   "outputs": [],
   "source": [
    "# Fill NaNs for correct text aggregation\n",
    "df.loc[~df['url'].isna(), 'full_text'] = None\n",
    "df['full_text'] = df['full_text'].fillna('')"
   ]
  },
  {
   "cell_type": "code",
   "execution_count": 9,
   "metadata": {},
   "outputs": [],
   "source": [
    "df = df.reset_index(drop=True) "
   ]
  },
  {
   "cell_type": "markdown",
   "metadata": {},
   "source": [
    "Tokenize text by NLTK word tokenizer"
   ]
  },
  {
   "cell_type": "code",
   "execution_count": 12,
   "metadata": {},
   "outputs": [
    {
     "name": "stdout",
     "output_type": "stream",
     "text": [
      "CPU times: user 1min 10s, sys: 537 ms, total: 1min 11s\n",
      "Wall time: 1min 57s\n"
     ]
    }
   ],
   "source": [
    "%%time\n",
    "df['tokens'] = df['full_text'].apply(lambda x: word_tokenize(x))"
   ]
  },
  {
   "cell_type": "code",
   "execution_count": 13,
   "metadata": {},
   "outputs": [
    {
     "data": {
      "text/html": [
       "<div>\n",
       "<style scoped>\n",
       "    .dataframe tbody tr th:only-of-type {\n",
       "        vertical-align: middle;\n",
       "    }\n",
       "\n",
       "    .dataframe tbody tr th {\n",
       "        vertical-align: top;\n",
       "    }\n",
       "\n",
       "    .dataframe thead th {\n",
       "        text-align: right;\n",
       "    }\n",
       "</style>\n",
       "<table border=\"1\" class=\"dataframe\">\n",
       "  <thead>\n",
       "    <tr style=\"text-align: right;\">\n",
       "      <th></th>\n",
       "      <th>url</th>\n",
       "      <th>full_text</th>\n",
       "      <th>h1</th>\n",
       "      <th>h2</th>\n",
       "      <th>h3</th>\n",
       "      <th>block</th>\n",
       "      <th>list</th>\n",
       "      <th>tokens</th>\n",
       "    </tr>\n",
       "  </thead>\n",
       "  <tbody>\n",
       "    <tr>\n",
       "      <th>0</th>\n",
       "      <td>https://en.wikipedia.org/wiki/Federal_enterpri...</td>\n",
       "      <td></td>\n",
       "      <td>NaN</td>\n",
       "      <td>NaN</td>\n",
       "      <td>NaN</td>\n",
       "      <td>NaN</td>\n",
       "      <td>NaN</td>\n",
       "      <td>[]</td>\n",
       "    </tr>\n",
       "    <tr>\n",
       "      <th>1</th>\n",
       "      <td>NaN</td>\n",
       "      <td>Federal enterprise architecture</td>\n",
       "      <td>Federal enterprise architecture</td>\n",
       "      <td>NaN</td>\n",
       "      <td>NaN</td>\n",
       "      <td>NaN</td>\n",
       "      <td>NaN</td>\n",
       "      <td>[Federal, enterprise, architecture]</td>\n",
       "    </tr>\n",
       "    <tr>\n",
       "      <th>2</th>\n",
       "      <td>NaN</td>\n",
       "      <td>A federal enterprise architecture framework (F...</td>\n",
       "      <td>NaN</td>\n",
       "      <td>NaN</td>\n",
       "      <td>NaN</td>\n",
       "      <td>A federal enterprise architecture framework (F...</td>\n",
       "      <td>NaN</td>\n",
       "      <td>[A, federal, enterprise, architecture, framewo...</td>\n",
       "    </tr>\n",
       "  </tbody>\n",
       "</table>\n",
       "</div>"
      ],
      "text/plain": [
       "                                                 url  \\\n",
       "0  https://en.wikipedia.org/wiki/Federal_enterpri...   \n",
       "1                                                NaN   \n",
       "2                                                NaN   \n",
       "\n",
       "                                           full_text  \\\n",
       "0                                                      \n",
       "1                    Federal enterprise architecture   \n",
       "2  A federal enterprise architecture framework (F...   \n",
       "\n",
       "                                h1   h2   h3  \\\n",
       "0                              NaN  NaN  NaN   \n",
       "1  Federal enterprise architecture  NaN  NaN   \n",
       "2                              NaN  NaN  NaN   \n",
       "\n",
       "                                               block list  \\\n",
       "0                                                NaN  NaN   \n",
       "1                                                NaN  NaN   \n",
       "2  A federal enterprise architecture framework (F...  NaN   \n",
       "\n",
       "                                              tokens  \n",
       "0                                                 []  \n",
       "1                [Federal, enterprise, architecture]  \n",
       "2  [A, federal, enterprise, architecture, framewo...  "
      ]
     },
     "execution_count": 13,
     "metadata": {},
     "output_type": "execute_result"
    }
   ],
   "source": [
    "df.head(3)"
   ]
  },
  {
   "cell_type": "markdown",
   "metadata": {},
   "source": [
    "\n",
    "Create classifier labels"
   ]
  },
  {
   "cell_type": "code",
   "execution_count": 14,
   "metadata": {},
   "outputs": [],
   "source": [
    "columns = ['h1', 'h2', 'block', 'list']\n",
    "clmn_idx2clmn_name = {clmn_idx: clmn_name for clmn_idx, clmn_name in enumerate(columns)}"
   ]
  },
  {
   "cell_type": "code",
   "execution_count": 24,
   "metadata": {},
   "outputs": [],
   "source": [
    "df_labels = (~df[columns].isna())\n",
    "index, value = df_labels.values.nonzero()\n",
    "df_labels['tag_idx'] = None\n",
    "df_labels.loc[index, 'tag_idx'] = value"
   ]
  },
  {
   "cell_type": "code",
   "execution_count": 25,
   "metadata": {},
   "outputs": [],
   "source": [
    "df_labels['tag_label'] = df_labels['tag_idx'].map(clmn_idx2clmn_name)\n",
    "df_labels['tag_label'] = df_labels['tag_label'].str.upper()"
   ]
  },
  {
   "cell_type": "code",
   "execution_count": 26,
   "metadata": {},
   "outputs": [
    {
     "data": {
      "text/html": [
       "<div>\n",
       "<style scoped>\n",
       "    .dataframe tbody tr th:only-of-type {\n",
       "        vertical-align: middle;\n",
       "    }\n",
       "\n",
       "    .dataframe tbody tr th {\n",
       "        vertical-align: top;\n",
       "    }\n",
       "\n",
       "    .dataframe thead th {\n",
       "        text-align: right;\n",
       "    }\n",
       "</style>\n",
       "<table border=\"1\" class=\"dataframe\">\n",
       "  <thead>\n",
       "    <tr style=\"text-align: right;\">\n",
       "      <th></th>\n",
       "      <th>h1</th>\n",
       "      <th>h2</th>\n",
       "      <th>block</th>\n",
       "      <th>list</th>\n",
       "      <th>tag_idx</th>\n",
       "      <th>tag_label</th>\n",
       "    </tr>\n",
       "  </thead>\n",
       "  <tbody>\n",
       "    <tr>\n",
       "      <th>0</th>\n",
       "      <td>False</td>\n",
       "      <td>False</td>\n",
       "      <td>False</td>\n",
       "      <td>False</td>\n",
       "      <td>None</td>\n",
       "      <td>NaN</td>\n",
       "    </tr>\n",
       "    <tr>\n",
       "      <th>1</th>\n",
       "      <td>True</td>\n",
       "      <td>False</td>\n",
       "      <td>False</td>\n",
       "      <td>False</td>\n",
       "      <td>0</td>\n",
       "      <td>H1</td>\n",
       "    </tr>\n",
       "    <tr>\n",
       "      <th>2</th>\n",
       "      <td>False</td>\n",
       "      <td>False</td>\n",
       "      <td>True</td>\n",
       "      <td>False</td>\n",
       "      <td>2</td>\n",
       "      <td>BLOCK</td>\n",
       "    </tr>\n",
       "  </tbody>\n",
       "</table>\n",
       "</div>"
      ],
      "text/plain": [
       "      h1     h2  block   list tag_idx tag_label\n",
       "0  False  False  False  False    None       NaN\n",
       "1   True  False  False  False       0        H1\n",
       "2  False  False   True  False       2     BLOCK"
      ]
     },
     "execution_count": 26,
     "metadata": {},
     "output_type": "execute_result"
    }
   ],
   "source": [
    "df_labels.head(3)"
   ]
  },
  {
   "cell_type": "code",
   "execution_count": 29,
   "metadata": {},
   "outputs": [],
   "source": [
    "df = df[['url', 'full_text', 'tokens']]\n",
    "df = df.join(df_labels['tag_label'])"
   ]
  },
  {
   "cell_type": "code",
   "execution_count": 30,
   "metadata": {},
   "outputs": [
    {
     "data": {
      "text/html": [
       "<div>\n",
       "<style scoped>\n",
       "    .dataframe tbody tr th:only-of-type {\n",
       "        vertical-align: middle;\n",
       "    }\n",
       "\n",
       "    .dataframe tbody tr th {\n",
       "        vertical-align: top;\n",
       "    }\n",
       "\n",
       "    .dataframe thead th {\n",
       "        text-align: right;\n",
       "    }\n",
       "</style>\n",
       "<table border=\"1\" class=\"dataframe\">\n",
       "  <thead>\n",
       "    <tr style=\"text-align: right;\">\n",
       "      <th></th>\n",
       "      <th>url</th>\n",
       "      <th>full_text</th>\n",
       "      <th>tokens</th>\n",
       "      <th>tag_label</th>\n",
       "    </tr>\n",
       "  </thead>\n",
       "  <tbody>\n",
       "    <tr>\n",
       "      <th>0</th>\n",
       "      <td>https://en.wikipedia.org/wiki/Federal_enterpri...</td>\n",
       "      <td></td>\n",
       "      <td>[]</td>\n",
       "      <td>NaN</td>\n",
       "    </tr>\n",
       "    <tr>\n",
       "      <th>1</th>\n",
       "      <td>NaN</td>\n",
       "      <td>Federal enterprise architecture</td>\n",
       "      <td>[Federal, enterprise, architecture]</td>\n",
       "      <td>H1</td>\n",
       "    </tr>\n",
       "    <tr>\n",
       "      <th>2</th>\n",
       "      <td>NaN</td>\n",
       "      <td>A federal enterprise architecture framework (F...</td>\n",
       "      <td>[A, federal, enterprise, architecture, framewo...</td>\n",
       "      <td>BLOCK</td>\n",
       "    </tr>\n",
       "  </tbody>\n",
       "</table>\n",
       "</div>"
      ],
      "text/plain": [
       "                                                 url  \\\n",
       "0  https://en.wikipedia.org/wiki/Federal_enterpri...   \n",
       "1                                                NaN   \n",
       "2                                                NaN   \n",
       "\n",
       "                                           full_text  \\\n",
       "0                                                      \n",
       "1                    Federal enterprise architecture   \n",
       "2  A federal enterprise architecture framework (F...   \n",
       "\n",
       "                                              tokens tag_label  \n",
       "0                                                 []       NaN  \n",
       "1                [Federal, enterprise, architecture]        H1  \n",
       "2  [A, federal, enterprise, architecture, framewo...     BLOCK  "
      ]
     },
     "execution_count": 30,
     "metadata": {},
     "output_type": "execute_result"
    }
   ],
   "source": [
    "df.head(3)"
   ]
  },
  {
   "cell_type": "markdown",
   "metadata": {},
   "source": [
    "Allign tokens with labels"
   ]
  },
  {
   "cell_type": "code",
   "execution_count": 31,
   "metadata": {},
   "outputs": [],
   "source": [
    "def get_token_labels(tokens: List[str], tag: str) -> List[str]:\n",
    "    seq_len = len(tokens)\n",
    "    if seq_len == 0:\n",
    "        return []\n",
    "    return [tag] + ['O']*(seq_len - 1)"
   ]
  },
  {
   "cell_type": "code",
   "execution_count": 34,
   "metadata": {},
   "outputs": [],
   "source": [
    "df['token_labels'] = df.apply(lambda x: get_token_labels(x.tokens, x.tag_label), axis=1)"
   ]
  },
  {
   "cell_type": "code",
   "execution_count": 35,
   "metadata": {},
   "outputs": [
    {
     "data": {
      "text/html": [
       "<div>\n",
       "<style scoped>\n",
       "    .dataframe tbody tr th:only-of-type {\n",
       "        vertical-align: middle;\n",
       "    }\n",
       "\n",
       "    .dataframe tbody tr th {\n",
       "        vertical-align: top;\n",
       "    }\n",
       "\n",
       "    .dataframe thead th {\n",
       "        text-align: right;\n",
       "    }\n",
       "</style>\n",
       "<table border=\"1\" class=\"dataframe\">\n",
       "  <thead>\n",
       "    <tr style=\"text-align: right;\">\n",
       "      <th></th>\n",
       "      <th>url</th>\n",
       "      <th>full_text</th>\n",
       "      <th>tokens</th>\n",
       "      <th>tag_label</th>\n",
       "      <th>token_labels</th>\n",
       "    </tr>\n",
       "  </thead>\n",
       "  <tbody>\n",
       "    <tr>\n",
       "      <th>0</th>\n",
       "      <td>https://en.wikipedia.org/wiki/Federal_enterpri...</td>\n",
       "      <td></td>\n",
       "      <td>[]</td>\n",
       "      <td>NaN</td>\n",
       "      <td>[]</td>\n",
       "    </tr>\n",
       "    <tr>\n",
       "      <th>1</th>\n",
       "      <td>NaN</td>\n",
       "      <td>Federal enterprise architecture</td>\n",
       "      <td>[Federal, enterprise, architecture]</td>\n",
       "      <td>H1</td>\n",
       "      <td>[H1, O, O]</td>\n",
       "    </tr>\n",
       "    <tr>\n",
       "      <th>2</th>\n",
       "      <td>NaN</td>\n",
       "      <td>A federal enterprise architecture framework (F...</td>\n",
       "      <td>[A, federal, enterprise, architecture, framewo...</td>\n",
       "      <td>BLOCK</td>\n",
       "      <td>[BLOCK, O, O, O, O, O, O, O, O, O, O, O, O, O,...</td>\n",
       "    </tr>\n",
       "  </tbody>\n",
       "</table>\n",
       "</div>"
      ],
      "text/plain": [
       "                                                 url  \\\n",
       "0  https://en.wikipedia.org/wiki/Federal_enterpri...   \n",
       "1                                                NaN   \n",
       "2                                                NaN   \n",
       "\n",
       "                                           full_text  \\\n",
       "0                                                      \n",
       "1                    Federal enterprise architecture   \n",
       "2  A federal enterprise architecture framework (F...   \n",
       "\n",
       "                                              tokens tag_label  \\\n",
       "0                                                 []       NaN   \n",
       "1                [Federal, enterprise, architecture]        H1   \n",
       "2  [A, federal, enterprise, architecture, framewo...     BLOCK   \n",
       "\n",
       "                                        token_labels  \n",
       "0                                                 []  \n",
       "1                                         [H1, O, O]  \n",
       "2  [BLOCK, O, O, O, O, O, O, O, O, O, O, O, O, O,...  "
      ]
     },
     "execution_count": 35,
     "metadata": {},
     "output_type": "execute_result"
    }
   ],
   "source": [
    "df.head(3)"
   ]
  },
  {
   "cell_type": "markdown",
   "metadata": {},
   "source": [
    "Group texts by URL"
   ]
  },
  {
   "cell_type": "code",
   "execution_count": 37,
   "metadata": {},
   "outputs": [],
   "source": [
    "# fillna by previous non-Nan for group by URL \n",
    "df['url'] = df['url'].fillna(method='ffill')"
   ]
  },
  {
   "cell_type": "code",
   "execution_count": 38,
   "metadata": {},
   "outputs": [],
   "source": [
    "result_df = df.groupby('url')[['tokens', 'token_labels']].sum()"
   ]
  },
  {
   "cell_type": "code",
   "execution_count": 40,
   "metadata": {},
   "outputs": [
    {
     "data": {
      "text/html": [
       "<div>\n",
       "<style scoped>\n",
       "    .dataframe tbody tr th:only-of-type {\n",
       "        vertical-align: middle;\n",
       "    }\n",
       "\n",
       "    .dataframe tbody tr th {\n",
       "        vertical-align: top;\n",
       "    }\n",
       "\n",
       "    .dataframe thead th {\n",
       "        text-align: right;\n",
       "    }\n",
       "</style>\n",
       "<table border=\"1\" class=\"dataframe\">\n",
       "  <thead>\n",
       "    <tr style=\"text-align: right;\">\n",
       "      <th></th>\n",
       "      <th>tokens</th>\n",
       "      <th>token_labels</th>\n",
       "    </tr>\n",
       "    <tr>\n",
       "      <th>url</th>\n",
       "      <th></th>\n",
       "      <th></th>\n",
       "    </tr>\n",
       "  </thead>\n",
       "  <tbody>\n",
       "    <tr>\n",
       "      <th>https://en.wikipedia.org//wiki/%C3%85land</th>\n",
       "      <td>[Åland, Åland, (, Finnish, :, Ahvenanmaa, :, [...</td>\n",
       "      <td>[H1, BLOCK, O, O, O, O, O, O, O, O, O, O, O, O...</td>\n",
       "    </tr>\n",
       "    <tr>\n",
       "      <th>https://en.wikipedia.org//wiki/108th_United_States_Congress</th>\n",
       "      <td>[108th, United, States, Congress, The, 108th, ...</td>\n",
       "      <td>[H1, O, O, O, BLOCK, O, O, O, O, O, O, O, O, O...</td>\n",
       "    </tr>\n",
       "    <tr>\n",
       "      <th>https://en.wikipedia.org//wiki/1988_Brazilian_Constitution</th>\n",
       "      <td>[Constitution, of, Brazil, The, Constitution, ...</td>\n",
       "      <td>[H1, O, O, BLOCK, O, O, O, O, O, O, O, O, O, O...</td>\n",
       "    </tr>\n",
       "  </tbody>\n",
       "</table>\n",
       "</div>"
      ],
      "text/plain": [
       "                                                                                               tokens  \\\n",
       "url                                                                                                     \n",
       "https://en.wikipedia.org//wiki/%C3%85land           [Åland, Åland, (, Finnish, :, Ahvenanmaa, :, [...   \n",
       "https://en.wikipedia.org//wiki/108th_United_Sta...  [108th, United, States, Congress, The, 108th, ...   \n",
       "https://en.wikipedia.org//wiki/1988_Brazilian_C...  [Constitution, of, Brazil, The, Constitution, ...   \n",
       "\n",
       "                                                                                         token_labels  \n",
       "url                                                                                                    \n",
       "https://en.wikipedia.org//wiki/%C3%85land           [H1, BLOCK, O, O, O, O, O, O, O, O, O, O, O, O...  \n",
       "https://en.wikipedia.org//wiki/108th_United_Sta...  [H1, O, O, O, BLOCK, O, O, O, O, O, O, O, O, O...  \n",
       "https://en.wikipedia.org//wiki/1988_Brazilian_C...  [H1, O, O, BLOCK, O, O, O, O, O, O, O, O, O, O...  "
      ]
     },
     "execution_count": 40,
     "metadata": {},
     "output_type": "execute_result"
    }
   ],
   "source": [
    "result_df.head(3)"
   ]
  },
  {
   "cell_type": "markdown",
   "metadata": {},
   "source": [
    "Save results"
   ]
  },
  {
   "cell_type": "code",
   "execution_count": 45,
   "metadata": {},
   "outputs": [],
   "source": [
    "data = result_df.explode(['tokens', 'token_labels'])"
   ]
  },
  {
   "cell_type": "code",
   "execution_count": 80,
   "metadata": {},
   "outputs": [],
   "source": [
    "data = data[data['tokens'] != '']\n",
    "data = data.dropna() #drom NaN's of URL rows"
   ]
  },
  {
   "cell_type": "code",
   "execution_count": 81,
   "metadata": {},
   "outputs": [
    {
     "name": "stdout",
     "output_type": "stream",
     "text": [
      "Total tokens amount: 7,853,561\n"
     ]
    }
   ],
   "source": [
    "print(f'Total tokens amount: {len(data):,}')"
   ]
  },
  {
   "cell_type": "code",
   "execution_count": 82,
   "metadata": {},
   "outputs": [],
   "source": [
    "data.to_csv(r'data/markdown/all_data.txt', header=None, index=None, sep='\\t', mode='w')"
   ]
  },
  {
   "cell_type": "code",
   "execution_count": 83,
   "metadata": {},
   "outputs": [],
   "source": [
    "# 90%, 5%, 5% \n",
    "train, validate, test = np.split(data, [int(.9*len(data)), int(.95*len(data))])"
   ]
  },
  {
   "cell_type": "code",
   "execution_count": 84,
   "metadata": {},
   "outputs": [
    {
     "name": "stdout",
     "output_type": "stream",
     "text": [
      "Train size: 7,068,204\n",
      "Validation size: 392,678\n",
      "Test size: 392,679\n"
     ]
    }
   ],
   "source": [
    "print(f'Train size: {len(train):,}')\n",
    "print(f'Validation size: {len(validate):,}')\n",
    "print(f'Test size: {len(test):,}')"
   ]
  },
  {
   "cell_type": "code",
   "execution_count": 85,
   "metadata": {},
   "outputs": [],
   "source": [
    "train.to_csv(r'data/markdown/train.txt', header=None, index=None, sep='\\t', mode='w')\n",
    "validate.to_csv(r'data/markdown/validate.txt', header=None, index=None, sep='\\t', mode='w')\n",
    "test.to_csv(r'data/markdown/test.txt', header=None, index=None, sep='\\t', mode='w')"
   ]
  },
  {
   "cell_type": "code",
   "execution_count": null,
   "metadata": {},
   "outputs": [],
   "source": []
  }
 ],
 "metadata": {
  "kernelspec": {
   "display_name": "Python 3.8.13 ('punct_restoration')",
   "language": "python",
   "name": "python3"
  },
  "language_info": {
   "codemirror_mode": {
    "name": "ipython",
    "version": 3
   },
   "file_extension": ".py",
   "mimetype": "text/x-python",
   "name": "python",
   "nbconvert_exporter": "python",
   "pygments_lexer": "ipython3",
   "version": "3.8.13"
  },
  "orig_nbformat": 4,
  "vscode": {
   "interpreter": {
    "hash": "4ad5208a8bb8dde6db4162aa07eab5335b9f3ee77a8821c1240d143123a5a615"
   }
  }
 },
 "nbformat": 4,
 "nbformat_minor": 2
}
